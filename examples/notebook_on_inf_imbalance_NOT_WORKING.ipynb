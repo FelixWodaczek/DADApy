{
 "cells": [
  {
   "cell_type": "code",
   "execution_count": 1,
   "metadata": {},
   "outputs": [],
   "source": [
    "import matplotlib\n",
    "import matplotlib.pyplot as plt\n",
    "import numpy as np"
   ]
  },
  {
   "cell_type": "code",
   "execution_count": 2,
   "metadata": {},
   "outputs": [],
   "source": [
    "from duly import Data, Data_sets\n",
    "from scipy.spatial.distance import pdist, squareform\n",
    "from matplotlib.patches import Ellipse\n",
    "\n",
    "%load_ext autoreload\n",
    "%autoreload 2\n",
    "#%matplotlib notebook\n",
    "\n",
    "mss = ['o', 's', \"v\", \"^\", \"<\", \">\", 'p', 'h', 'P', '*', 'X']\n",
    "cmap = matplotlib.cm.get_cmap('Set1')\n",
    "cl = [cmap(i) for i in np.arange(0,10)]"
   ]
  },
  {
   "cell_type": "markdown",
   "metadata": {},
   "source": [
    "### 3D Gaussian"
   ]
  },
  {
   "cell_type": "code",
   "execution_count": 3,
   "metadata": {},
   "outputs": [],
   "source": [
    "# define a simple dataset of a 3D gaussian with a small variance along the z axis\n",
    "\n",
    "N = 2000\n",
    "\n",
    "cov = np.identity(3)\n",
    "cov[-1, -1] = 0.1**2\n",
    "mean = np.zeros(3)\n",
    "X = np.random.multivariate_normal(mean = mean, cov = cov, size = (N))\n",
    "\n",
    "import matplotlib.cm as cm\n",
    "colors = cm.rainbow(np.linspace(0, 1, 5))\n"
   ]
  },
  {
   "cell_type": "code",
   "execution_count": 4,
   "metadata": {},
   "outputs": [],
   "source": [
    "dl = []\n",
    "\n",
    "dl.append(squareform(pdist(X))) #metric xyz\n",
    "\n",
    "for i in range(3):     # metrics: x, y, z\n",
    "    X_ = X[:, i][:, None]\n",
    "    dl.append(squareform(pdist(X_)))\n",
    "\n",
    "for i in range(3):     # metrics: xy, xz, yz\n",
    "    for j in range(i):\n",
    "        X_ = X[:, [j, i]]\n",
    "        \n",
    "        dl.append(squareform(pdist(X_)))   \n",
    "\n",
    "labels = ['xyz', 'x', 'y', 'z', 'xy', 'xz', 'yz']"
   ]
  },
  {
   "cell_type": "code",
   "execution_count": 5,
   "metadata": {},
   "outputs": [],
   "source": [
    "# define an instance of the Data_sets class and initialise it with a list distances \n",
    "# (it can be initialised also with a list of coordinates, and later the distances can be\n",
    "# computed using the command ds.compute_coordinates() )\n",
    "\n",
    "ds = Data_sets(distances_list=dl)\n"
   ]
  },
  {
   "cell_type": "code",
   "execution_count": 6,
   "metadata": {},
   "outputs": [
    {
     "ename": "AttributeError",
     "evalue": "'Data_sets' object has no attribute 'return_neigh_loss_matrix'",
     "output_type": "error",
     "traceback": [
      "\u001b[0;31m---------------------------------------------------------------------------\u001b[0m",
      "\u001b[0;31mAttributeError\u001b[0m                            Traceback (most recent call last)",
      "\u001b[0;32m<ipython-input-6-29a754df3af4>\u001b[0m in \u001b[0;36m<module>\u001b[0;34m\u001b[0m\n\u001b[1;32m      2\u001b[0m \u001b[0;31m# all pairs of representations\u001b[0m\u001b[0;34m\u001b[0m\u001b[0;34m\u001b[0m\u001b[0;34m\u001b[0m\u001b[0m\n\u001b[1;32m      3\u001b[0m \u001b[0;34m\u001b[0m\u001b[0m\n\u001b[0;32m----> 4\u001b[0;31m \u001b[0mgamma_\u001b[0m \u001b[0;34m=\u001b[0m \u001b[0mds\u001b[0m\u001b[0;34m.\u001b[0m\u001b[0mreturn_neigh_loss_matrix\u001b[0m\u001b[0;34m(\u001b[0m\u001b[0mk\u001b[0m\u001b[0;34m=\u001b[0m\u001b[0;36m1\u001b[0m\u001b[0;34m,\u001b[0m \u001b[0mltype\u001b[0m \u001b[0;34m=\u001b[0m \u001b[0;34m'mean'\u001b[0m\u001b[0;34m)\u001b[0m\u001b[0;34m\u001b[0m\u001b[0;34m\u001b[0m\u001b[0m\n\u001b[0m",
      "\u001b[0;31mAttributeError\u001b[0m: 'Data_sets' object has no attribute 'return_neigh_loss_matrix'"
     ]
    }
   ],
   "source": [
    "# compute the asymmetric matrix of the \"information imbalances\" or \"losses\" between \n",
    "# all pairs of representations\n",
    "\n",
    "gamma_ = ds.return_neigh_loss_matrix(k=1, ltype = 'mean')\n"
   ]
  },
  {
   "cell_type": "code",
   "execution_count": null,
   "metadata": {
    "scrolled": false
   },
   "outputs": [],
   "source": [
    "plt.figure()\n",
    "\n",
    "plt.plot([0.,1.], [0., 1.], 'k--')\n",
    "\n",
    "plt.scatter(gamma_[0, 4], gamma_.T[0,4], label = r'$xyz\\rightarrow xy$', \n",
    "            marker = mss[0], color = cl[0], edgecolor = 'k')\n",
    "\n",
    "\n",
    "plt.scatter(gamma_[0, 1], gamma_.T[0,1], label = r'$xyz \\rightarrow x$', \n",
    "             marker = mss[1], color = cl[1], edgecolor = 'k')\n",
    "\n",
    "plt.scatter(gamma_[0, 3], gamma_.T[0,3], label = r'$xyz \\rightarrow z$', \n",
    "            marker = mss[2], color = cl[1], edgecolor = 'k')\n",
    "\n",
    "plt.scatter(gamma_[1, 2], gamma_.T[1,2], label = r'$x\\rightarrow y$',\n",
    "            marker = mss[3], color = cl[2], edgecolor = 'k')\n",
    "\n",
    "plt.legend(ncol = 1, loc = 4)\n",
    "plt.xlabel(r'$\\Delta(A\\rightarrow B)$')\n",
    "plt.ylabel(r'$\\Delta(B\\rightarrow A)$')\n",
    "\n",
    "plt.xlim(-0.05, )\n",
    "plt.ylim(-0.05, )\n",
    "\n",
    "ax = plt.gca()\n",
    "ellipse = Ellipse(xy=(.28, .7), width=.93, height=0.55, \n",
    "                        edgecolor=cl[1], fc='None', angle  = 45)\n",
    "ax.add_patch(ellipse)\n",
    "\n",
    "ellipse = Ellipse(xy=(.025, .025), width=.15, height=0.15, \n",
    "                        edgecolor=cl[0], fc='None', angle  = 0)\n",
    "ax.add_patch(ellipse)\n",
    "\n",
    "ellipse = Ellipse(xy=(.975, .975), width=.15, height=0.15, \n",
    "                        edgecolor=cl[2], fc='None', angle  = 0)\n",
    "ax.add_patch(ellipse)\n"
   ]
  },
  {
   "cell_type": "code",
   "execution_count": null,
   "metadata": {},
   "outputs": [],
   "source": []
  }
 ],
 "metadata": {
  "kernelspec": {
   "display_name": "Python 3",
   "language": "python",
   "name": "python3"
  },
  "language_info": {
   "codemirror_mode": {
    "name": "ipython",
    "version": 3
   },
   "file_extension": ".py",
   "mimetype": "text/x-python",
   "name": "python",
   "nbconvert_exporter": "python",
   "pygments_lexer": "ipython3",
   "version": "3.8.8"
  }
 },
 "nbformat": 4,
 "nbformat_minor": 2
}
