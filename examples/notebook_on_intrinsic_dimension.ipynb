{
 "cells": [
  {
   "cell_type": "markdown",
   "id": "3b7bc1fd",
   "metadata": {},
   "source": [
    "# Tutorial on Intrinsic dimension estimation"
   ]
  },
  {
   "cell_type": "code",
   "execution_count": 68,
   "id": "c8a022f6",
   "metadata": {},
   "outputs": [
    {
     "name": "stdout",
     "output_type": "stream",
     "text": [
      "The autoreload extension is already loaded. To reload it, use:\n",
      "  %reload_ext autoreload\n"
     ]
    }
   ],
   "source": [
    "import numpy as np\n",
    "import matplotlib.pyplot as plt\n",
    "from duly import data\n",
    "from duly.plot import plot_SLAn, plot_MDS, plot_matrix, get_dendrogram, plot_DecGraph\n",
    "\n",
    "\n",
    "%load_ext autoreload\n",
    "%autoreload 2\n",
    "%matplotlib notebook\n",
    "%matplotlib inline"
   ]
  },
  {
   "cell_type": "code",
   "execution_count": 83,
   "id": "736dffc3",
   "metadata": {},
   "outputs": [],
   "source": [
    "\n",
    "# import a test set\n",
    "X = np.random.multivariate_normal([0, 0], [[1, 0.9999],[ 0.9999, 1]], size = (2000,))\n"
   ]
  },
  {
   "cell_type": "code",
   "execution_count": 84,
   "id": "0a71f360",
   "metadata": {},
   "outputs": [
    {
     "data": {
      "image/png": "[encoded data removed]",
      "text/plain": [
       "<Figure size 360x360 with 1 Axes>"
      ]
     },
     "metadata": {
      "needs_background": "light"
     },
     "output_type": "display_data"
    }
   ],
   "source": [
    "plt.figure(figsize = (5, 5))\n",
    "plt.title('2D scatter of the data')\n",
    "plt.scatter(X[:,0],X[:,1],s=15.,alpha=1.0,c='black',linewidths=0.0)\n",
    "plt.show()"
   ]
  },
  {
   "cell_type": "code",
   "execution_count": 85,
   "id": "eb8aaaa4",
   "metadata": {},
   "outputs": [],
   "source": [
    "# initialise the Data class\n",
    "_data = data.Data(X)\n"
   ]
  },
  {
   "cell_type": "code",
   "execution_count": 86,
   "id": "f400c120",
   "metadata": {},
   "outputs": [
    {
     "name": "stdout",
     "output_type": "stream",
     "text": [
      "Computation of the distances up to 1999 NNs started\n",
      "Computation of the distances finished\n"
     ]
    }
   ],
   "source": [
    "# estimate ID\n",
    "_data.compute_distances()"
   ]
  },
  {
   "cell_type": "code",
   "execution_count": 87,
   "id": "f4482373",
   "metadata": {},
   "outputs": [
    {
     "name": "stdout",
     "output_type": "stream",
     "text": [
      "ID estimation finished: selecting ID of 1.9849031423725632 +- 0.0\n"
     ]
    }
   ],
   "source": [
    "# estimate ID\n",
    "_data.compute_id_2NN()\n"
   ]
  },
  {
   "cell_type": "code",
   "execution_count": 90,
   "id": "0b721cc2",
   "metadata": {},
   "outputs": [
    {
     "name": "stdout",
     "output_type": "stream",
     "text": [
      "ID estimation finished: selecting ID of 1.9849031423725632 +- 0.0\n",
      "ID estimation finished: selecting ID of 1.9490884398866979 +- 0.004385696707872245\n",
      "ID estimation finished: selecting ID of 1.8468068346854023 +- 0.0722576112915057\n",
      "ID estimation finished: selecting ID of 1.6768061106244783 +- 0.03342414025744283\n",
      "ID estimation finished: selecting ID of 1.481619541391089 +- 0.03476750352820212\n",
      "ID estimation finished: selecting ID of 1.2549716826346553 +- 0.0324195249634314\n",
      "ID estimation finished: selecting ID of 1.2518068814589685 +- 0.03941741484494295\n",
      "ID estimation finished: selecting ID of 1.227203442397837 +- 0.0301223774324084\n"
     ]
    }
   ],
   "source": [
    " ids_scaling, ids_scaling_std, r2s_scaling = _data.return_id_scaling_2NN(N_min = 10)"
   ]
  },
  {
   "cell_type": "code",
   "execution_count": 91,
   "id": "fdfc52ac",
   "metadata": {},
   "outputs": [
    {
     "data": {
      "text/plain": [
       "<ErrorbarContainer object of 3 artists>"
      ]
     },
     "execution_count": 91,
     "metadata": {},
     "output_type": "execute_result"
    },
    {
     "data": {
      "image/png": "[encoded data removed]",
      "text/plain": [
       "<Figure size 432x288 with 1 Axes>"
      ]
     },
     "metadata": {
      "needs_background": "light"
     },
     "output_type": "display_data"
    }
   ],
   "source": [
    "plt.errorbar(r2s_scaling, ids_scaling, ids_scaling_std)"
   ]
  },
  {
   "cell_type": "code",
   "execution_count": null,
   "id": "d693bf85",
   "metadata": {},
   "outputs": [],
   "source": []
  }
 ],
 "metadata": {
  "kernelspec": {
   "display_name": "Python 3",
   "language": "python",
   "name": "python3"
  },
  "language_info": {
   "codemirror_mode": {
    "name": "ipython",
    "version": 3
   },
   "file_extension": ".py",
   "mimetype": "text/x-python",
   "name": "python",
   "nbconvert_exporter": "python",
   "pygments_lexer": "ipython3",
   "version": "3.8.8"
  }
 },
 "nbformat": 4,
 "nbformat_minor": 5
}
