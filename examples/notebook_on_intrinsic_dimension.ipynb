{
 "cells": [
  {
   "cell_type": "markdown",
   "id": "b722dc77",
   "metadata": {},
   "source": [
    "# Tutorial on Intrinsic dimension estimation"
   ]
  },
  {
   "cell_type": "code",
   "execution_count": 2,
   "id": "53f71310",
   "metadata": {},
   "outputs": [],
   "source": [
    "import numpy as np\n",
    "import matplotlib.pyplot as plt\n",
    "from duly import data\n",
    "from duly.plot import plot_SLAn, plot_MDS, plot_matrix, get_dendrogram, plot_DecGraph\n",
    "\n",
    "\n",
    "%load_ext autoreload\n",
    "%autoreload 2\n",
    "%matplotlib notebook\n",
    "%matplotlib inline"
   ]
  },
  {
   "cell_type": "code",
   "execution_count": 15,
   "id": "1fd39c3f",
   "metadata": {},
   "outputs": [],
   "source": [
    "\n",
    "# import a test set\n",
    "X = np.random.multivariate_normal([0, 0], [[1, 0.99],[ 0.99, 1]], size = (1000,))\n"
   ]
  },
  {
   "cell_type": "code",
   "execution_count": 17,
   "id": "e48249da",
   "metadata": {},
   "outputs": [
    {
     "data": {
      "image/png": "[encoded data removed]",
      "text/plain": [
       "<Figure size 360x360 with 1 Axes>"
      ]
     },
     "metadata": {
      "needs_background": "light"
     },
     "output_type": "display_data"
    }
   ],
   "source": [
    "plt.figure(figsize = (5, 5))\n",
    "plt.title('2D scatter of the data')\n",
    "plt.scatter(X[:,0],X[:,1],s=15.,alpha=1.0,c='black',linewidths=0.0)\n",
    "plt.show()"
   ]
  },
  {
   "cell_type": "code",
   "execution_count": 18,
   "id": "658d598e",
   "metadata": {},
   "outputs": [],
   "source": [
    "# initialise the Data class\n",
    "_data = data.Data(X)\n"
   ]
  },
  {
   "cell_type": "code",
   "execution_count": 19,
   "id": "5be1ecea",
   "metadata": {},
   "outputs": [
    {
     "name": "stdout",
     "output_type": "stream",
     "text": [
      "Computation of the distances up to 999 NNs started\n",
      "Computation of the distances finished\n",
      "ID estimation finished: selecting ID of 1.922\n"
     ]
    }
   ],
   "source": [
    "# estimate ID\n",
    "_data.compute_id_2NN()\n"
   ]
  },
  {
   "cell_type": "code",
   "execution_count": 20,
   "id": "a2220903",
   "metadata": {},
   "outputs": [
    {
     "ename": "TypeError",
     "evalue": "_mus_scaling_reduce_func() got multiple values for argument 'range_scaling'",
     "output_type": "error",
     "traceback": [
      "\u001b[0;31m---------------------------------------------------------------------------\u001b[0m",
      "\u001b[0;31mTypeError\u001b[0m                                 Traceback (most recent call last)",
      "\u001b[0;32m<ipython-input-20-2fa6d8a998fb>\u001b[0m in \u001b[0;36m<module>\u001b[0;34m\u001b[0m\n\u001b[0;32m----> 1\u001b[0;31m \u001b[0mids_scaling\u001b[0m\u001b[0;34m,\u001b[0m \u001b[0mids_scaling_std\u001b[0m\u001b[0;34m,\u001b[0m \u001b[0mr2s_scaling\u001b[0m \u001b[0;34m=\u001b[0m \u001b[0m_data\u001b[0m\u001b[0;34m.\u001b[0m\u001b[0mreturn_id_scaling\u001b[0m\u001b[0;34m(\u001b[0m\u001b[0;34m)\u001b[0m\u001b[0;34m\u001b[0m\u001b[0;34m\u001b[0m\u001b[0m\n\u001b[0m",
      "\u001b[0;32m~/SISSA_Code/DULY/duly/id_estimation.py\u001b[0m in \u001b[0;36mreturn_id_scaling\u001b[0;34m(self, range_max, d0, d1)\u001b[0m\n\u001b[1;32m     52\u001b[0m         \u001b[0;32melif\u001b[0m \u001b[0mself\u001b[0m\u001b[0;34m.\u001b[0m\u001b[0mX\u001b[0m \u001b[0;32mis\u001b[0m \u001b[0;32mnot\u001b[0m \u001b[0;32mNone\u001b[0m\u001b[0;34m:\u001b[0m\u001b[0;34m\u001b[0m\u001b[0;34m\u001b[0m\u001b[0m\n\u001b[1;32m     53\u001b[0m             \u001b[0msteps\u001b[0m\u001b[0;34m,\u001b[0m \u001b[0mrange_r2\u001b[0m \u001b[0;34m=\u001b[0m \u001b[0mget_steps\u001b[0m\u001b[0;34m(\u001b[0m\u001b[0mupper_bound\u001b[0m\u001b[0;34m=\u001b[0m\u001b[0mself\u001b[0m\u001b[0;34m.\u001b[0m\u001b[0mN\u001b[0m \u001b[0;34m-\u001b[0m \u001b[0;36m1\u001b[0m\u001b[0;34m)\u001b[0m\u001b[0;34m\u001b[0m\u001b[0;34m\u001b[0m\u001b[0m\n\u001b[0;32m---> 54\u001b[0;31m             distances, dist_indices, mus, r2s = self._get_mus_scaling(\n\u001b[0m\u001b[1;32m     55\u001b[0m                 \u001b[0mrange_scaling\u001b[0m\u001b[0;34m=\u001b[0m\u001b[0mrange_r2\u001b[0m\u001b[0;34m\u001b[0m\u001b[0;34m\u001b[0m\u001b[0m\n\u001b[1;32m     56\u001b[0m             )\n",
      "\u001b[0;32m~/SISSA_Code/DULY/duly/_base.py\u001b[0m in \u001b[0;36m_get_mus_scaling\u001b[0;34m(self, range_scaling)\u001b[0m\n\u001b[1;32m    193\u001b[0m \u001b[0;34m\u001b[0m\u001b[0m\n\u001b[1;32m    194\u001b[0m         \u001b[0mkwds\u001b[0m \u001b[0;34m=\u001b[0m \u001b[0;34m{\u001b[0m\u001b[0;34m\"squared\"\u001b[0m\u001b[0;34m:\u001b[0m \u001b[0;32mTrue\u001b[0m\u001b[0;34m}\u001b[0m\u001b[0;34m\u001b[0m\u001b[0;34m\u001b[0m\u001b[0m\n\u001b[0;32m--> 195\u001b[0;31m         chunked_results = list(\n\u001b[0m\u001b[1;32m    196\u001b[0m             pairwise_distances_chunked(\n\u001b[1;32m    197\u001b[0m                 \u001b[0mself\u001b[0m\u001b[0;34m.\u001b[0m\u001b[0mX\u001b[0m\u001b[0;34m,\u001b[0m\u001b[0;34m\u001b[0m\u001b[0;34m\u001b[0m\u001b[0m\n",
      "\u001b[0;32m~/miniconda3/envs/py38/lib/python3.8/site-packages/sklearn/metrics/pairwise.py\u001b[0m in \u001b[0;36mpairwise_distances_chunked\u001b[0;34m(X, Y, reduce_func, metric, n_jobs, working_memory, **kwds)\u001b[0m\n\u001b[1;32m   1631\u001b[0m         \u001b[0;32mif\u001b[0m \u001b[0mreduce_func\u001b[0m \u001b[0;32mis\u001b[0m \u001b[0;32mnot\u001b[0m \u001b[0;32mNone\u001b[0m\u001b[0;34m:\u001b[0m\u001b[0;34m\u001b[0m\u001b[0;34m\u001b[0m\u001b[0m\n\u001b[1;32m   1632\u001b[0m             \u001b[0mchunk_size\u001b[0m \u001b[0;34m=\u001b[0m \u001b[0mD_chunk\u001b[0m\u001b[0;34m.\u001b[0m\u001b[0mshape\u001b[0m\u001b[0;34m[\u001b[0m\u001b[0;36m0\u001b[0m\u001b[0;34m]\u001b[0m\u001b[0;34m\u001b[0m\u001b[0;34m\u001b[0m\u001b[0m\n\u001b[0;32m-> 1633\u001b[0;31m             \u001b[0mD_chunk\u001b[0m \u001b[0;34m=\u001b[0m \u001b[0mreduce_func\u001b[0m\u001b[0;34m(\u001b[0m\u001b[0mD_chunk\u001b[0m\u001b[0;34m,\u001b[0m \u001b[0msl\u001b[0m\u001b[0;34m.\u001b[0m\u001b[0mstart\u001b[0m\u001b[0;34m)\u001b[0m\u001b[0;34m\u001b[0m\u001b[0;34m\u001b[0m\u001b[0m\n\u001b[0m\u001b[1;32m   1634\u001b[0m             \u001b[0m_check_chunk_size\u001b[0m\u001b[0;34m(\u001b[0m\u001b[0mD_chunk\u001b[0m\u001b[0;34m,\u001b[0m \u001b[0mchunk_size\u001b[0m\u001b[0;34m)\u001b[0m\u001b[0;34m\u001b[0m\u001b[0;34m\u001b[0m\u001b[0m\n\u001b[1;32m   1635\u001b[0m         \u001b[0;32myield\u001b[0m \u001b[0mD_chunk\u001b[0m\u001b[0;34m\u001b[0m\u001b[0;34m\u001b[0m\u001b[0m\n",
      "\u001b[0;31mTypeError\u001b[0m: _mus_scaling_reduce_func() got multiple values for argument 'range_scaling'"
     ]
    }
   ],
   "source": [
    " ids_scaling, ids_scaling_std, r2s_scaling = _data.return_id_scaling()"
   ]
  },
  {
   "cell_type": "code",
   "execution_count": null,
   "id": "574a61f9",
   "metadata": {},
   "outputs": [],
   "source": [
    "        # array of ids (as a function of the average distance to a point)\n",
    "        ids_scaling = np.empty(mus.shape[1])\n",
    "        # array of error estimates (via fisher information)\n",
    "        ids_scaling_std = np.empty(mus.shape[1])\n",
    "        # array of average 'first' and 'second' neighbor distances, relative to each id estimate\n",
    "        r2s_scaling = np.mean(r2s, axis=0)\n",
    "\n",
    "        # compute IDs via maximum likelihood (and their error) for all the scales up to range_scaling\n",
    "        for i in range(mus.shape[1]):\n",
    "            n1 = 2 ** i\n",
    "            id = ut._argmax_loglik(\n",
    "                self.dtype, d0, d1, mus[:, i], n1, 2 * n1, self.N, eps=1.0e-7\n",
    "            )\n",
    "            ids_scaling[i] = id\n",
    "            ids_scaling_std[i] = (\n",
    "                1 / ut._fisher_info_scaling(id, mus[:, i], n1, 2 * n1)\n",
    "            ) ** 0.5\n",
    "\n",
    "        return ids_scaling, ids_scaling_std, r2s_scaling"
   ]
  }
 ],
 "metadata": {
  "kernelspec": {
   "display_name": "Python 3",
   "language": "python",
   "name": "python3"
  },
  "language_info": {
   "codemirror_mode": {
    "name": "ipython",
    "version": 3
   },
   "file_extension": ".py",
   "mimetype": "text/x-python",
   "name": "python",
   "nbconvert_exporter": "python",
   "pygments_lexer": "ipython3",
   "version": "3.8.8"
  }
 },
 "nbformat": 4,
 "nbformat_minor": 5
}
