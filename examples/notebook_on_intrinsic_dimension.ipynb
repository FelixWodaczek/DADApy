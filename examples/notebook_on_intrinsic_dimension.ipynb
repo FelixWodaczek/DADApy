{
 "cells": [
  {
   "cell_type": "markdown",
   "metadata": {},
   "source": [
    "# Tutorial on Intrinsic dimension estimation"
   ]
  },
  {
   "cell_type": "code",
   "execution_count": 2,
   "metadata": {},
   "outputs": [],
   "source": [
    "import time\n",
    "from matplotlib.gridspec import GridSpec\n",
    "import seaborn as sns\n",
    "import numpy as np\n",
    "import matplotlib.pyplot as plt\n",
    "from dadapy import data\n",
    "from dadapy.plot import plot_SLAn, plot_MDS, plot_matrix, get_dendrogram, plot_DecGraph\n",
    "\n",
    "\n",
    "%load_ext autoreload\n",
    "%autoreload 2\n",
    "%matplotlib notebook\n",
    "%matplotlib inline"
   ]
  },
  {
   "cell_type": "code",
   "execution_count": 3,
   "metadata": {},
   "outputs": [],
   "source": [
    "\n",
    "# import a test set\n",
    "X = np.random.multivariate_normal([0, 0], [[1, 0.9999],[ 0.9999, 1]], size = (2000,))\n"
   ]
  },
  {
   "cell_type": "code",
   "execution_count": 4,
   "metadata": {},
   "outputs": [
    {
     "data": {
      "image/png": "[encoded data removed]",
      "text/plain": [
       "<Figure size 360x360 with 1 Axes>"
      ]
     },
     "metadata": {
      "needs_background": "light"
     },
     "output_type": "display_data"
    }
   ],
   "source": [
    "plt.figure(figsize = (5, 5))\n",
    "plt.title('2D scatter of the data')\n",
    "plt.scatter(X[:,0],X[:,1],s=15.,alpha=1.0,c='black',linewidths=0.0)\n",
    "plt.show()"
   ]
  },
  {
   "cell_type": "markdown",
   "metadata": {},
   "source": [
    "## TwoNN estimator"
   ]
  },
  {
   "cell_type": "code",
   "execution_count": 5,
   "metadata": {},
   "outputs": [],
   "source": [
    "# initialise the Data class\n",
    "_data = data.Data(X)"
   ]
  },
  {
   "cell_type": "code",
   "execution_count": 6,
   "metadata": {},
   "outputs": [
    {
     "data": {
      "text/plain": [
       "(2.0726265795619607, 0.0, 0.008132416466959431)"
      ]
     },
     "execution_count": 6,
     "metadata": {},
     "output_type": "execute_result"
    }
   ],
   "source": [
    "# estimate ID\n",
    "_data.compute_id_2NN()\n"
   ]
  },
  {
   "cell_type": "code",
   "execution_count": 7,
   "metadata": {},
   "outputs": [],
   "source": [
    "#ids_scaling, ids_scaling_std, r2s_scaling = _data.return_id_scaling_2NN(N_min = 10)"
   ]
  },
  {
   "cell_type": "code",
   "execution_count": 8,
   "metadata": {},
   "outputs": [],
   "source": [
    "#plt.errorbar(r2s_scaling, ids_scaling, ids_scaling_std)"
   ]
  },
  {
   "cell_type": "markdown",
   "metadata": {},
   "source": [
    "## Scale analysis of the intrinsic dimansion: twoNN vs gride"
   ]
  },
  {
   "cell_type": "code",
   "execution_count": 62,
   "metadata": {},
   "outputs": [],
   "source": [
    "ndata = 3000\n",
    "intrinsic_dimension = 2\n",
    "noise_dimension = 1\n",
    "\n",
    "X = np.random.normal(scale = 0.01, size = (ndata, intrinsic_dimension+noise_dimension))\n",
    "X[:, :intrinsic_dimension] = np.random.normal(scale = 1, size = (ndata, intrinsic_dimension))"
   ]
  },
  {
   "cell_type": "code",
   "execution_count": 63,
   "metadata": {},
   "outputs": [],
   "source": [
    "start = time.time()\n",
    "ids_scaling_gride, ids_scaling_err_gride, rs_scaling_gride = _data.return_id_scaling_gride(range_max=2048)\n",
    "delay_gride = time.time()-start\n",
    "\n",
    "start = time.time()\n",
    "ids_scaling_twoNN, ids_scaling_err_twoNN, rs_scaling_twoNN = _data.return_id_scaling_2NN(N_min = 20)\n",
    "delay_twoNN = time.time()-start"
   ]
  },
  {
   "cell_type": "code",
   "execution_count": 64,
   "metadata": {},
   "outputs": [
    {
     "data": {
      "text/plain": [
       "<matplotlib.lines.Line2D at 0x7fd590bce340>"
      ]
     },
     "execution_count": 64,
     "metadata": {},
     "output_type": "execute_result"
    },
    {
     "data": {
      "image/png": "[encoded data removed]",
      "text/plain": [
       "<Figure size 576x216 with 1 Axes>"
      ]
     },
     "metadata": {
      "needs_background": "light"
     },
     "output_type": "display_data"
    }
   ],
   "source": [
    "fig = plt.figure(figsize = (8, 3))\n",
    "gs = GridSpec(1,2)\n",
    "ax = fig.add_subplot(gs[0])\n",
    "\n",
    "x = X.shape[0]/np.array([2**i for i in range(len(ids_scaling_gride))])\n",
    "sns.lineplot(ax = ax, x=x, y = ids_scaling_gride, label = 'Gride', marker = 'o')\n",
    "sns.lineplot(ax = ax, x=x, y = ids_scaling_twoNN, label = 'twoNN', marker = 'o')\n",
    "ax.legend(fontsize = 10)\n",
    "ax.set_xscale('log')\n",
    "ax.set_title('Isolet', fontsize = 15)\n",
    "ax.set_ylabel('ID', fontsize = 14)\n",
    "ax.set_xlabel('n° data', fontsize = 14)\n",
    "ax.axhline(2, color = 'C2', alpha = 1)"
   ]
  },
  {
   "cell_type": "code",
   "execution_count": 9,
   "metadata": {},
   "outputs": [
    {
     "name": "stdout",
     "output_type": "stream",
     "text": [
      "data shape: N data x P features = (7797, 617)\n"
     ]
    }
   ],
   "source": [
    "X = np.load('datasets/isolet_float16.npy')\n",
    "print(f'data shape: N data x P features = {X.shape}')\n",
    "_data = data.Data(coordinates=X, \n",
    "                maxk=100)"
   ]
  },
  {
   "cell_type": "code",
   "execution_count": 10,
   "metadata": {},
   "outputs": [],
   "source": [
    "start = time.time()\n",
    "ids_scaling_gride, ids_scaling_err_gride, rs_scaling_gride = _data.return_id_scaling_gride(range_max=1024)\n",
    "delay_gride = time.time()-start\n",
    "\n",
    "start = time.time()\n",
    "ids_scaling_twoNN, ids_scaling_err_twoNN, rs_scaling_twoNN = _data.return_id_scaling_2NN(N_min = 20)\n",
    "delay_twoNN = time.time()-start"
   ]
  },
  {
   "cell_type": "code",
   "execution_count": 11,
   "metadata": {},
   "outputs": [
    {
     "name": "stdout",
     "output_type": "stream",
     "text": [
      "gride took  2.49 seconds\n",
      "twoNN took  1.98 seconds\n"
     ]
    }
   ],
   "source": [
    "print(f'gride took {delay_gride: .2f} seconds')\n",
    "print(f'twoNN took {delay_twoNN: .2f} seconds')"
   ]
  },
  {
   "cell_type": "code",
   "execution_count": 12,
   "metadata": {},
   "outputs": [
    {
     "data": {
      "text/plain": [
       "<matplotlib.patches.Polygon at 0x7fd591d06eb0>"
      ]
     },
     "execution_count": 12,
     "metadata": {},
     "output_type": "execute_result"
    },
    {
     "data": {
      "image/png": "[encoded data removed]",
      "text/plain": [
       "<Figure size 576x216 with 1 Axes>"
      ]
     },
     "metadata": {
      "needs_background": "light"
     },
     "output_type": "display_data"
    }
   ],
   "source": [
    "fig = plt.figure(figsize = (8, 3))\n",
    "gs = GridSpec(1,2)\n",
    "ax = fig.add_subplot(gs[0])\n",
    "\n",
    "x = X.shape[0]/np.array([2**i for i in range(len(ids_scaling_gride))])\n",
    "sns.lineplot(ax = ax, x=x, y = ids_scaling_gride, label = 'Gride', marker = 'o')\n",
    "sns.lineplot(ax = ax, x=x, y = ids_scaling_twoNN, label = 'twoNN', marker = 'o')\n",
    "ax.legend(fontsize = 10)\n",
    "#ax.set_xscale('log')\n",
    "ax.set_title('Isolet', fontsize = 15)\n",
    "ax.set_ylabel('ID', fontsize = 14)\n",
    "ax.set_xlabel('n° data', fontsize = 14)\n",
    "ax.axhspan(16, 22, color = 'C2', alpha = 0.1)"
   ]
  },
  {
   "cell_type": "code",
   "execution_count": 13,
   "metadata": {},
   "outputs": [
    {
     "name": "stdout",
     "output_type": "stream",
     "text": [
      "data shape: N data x P features = (6742, 784)\n"
     ]
    }
   ],
   "source": [
    "\n",
    "\n",
    "\n",
    "\n",
    "X = np.load('datasets/mnist.npy')\n",
    "X = X.astype('float')\n",
    "print(f'data shape: N data x P features = {X.shape}')\n",
    "_data = data.Data(coordinates=X, \n",
    "                maxk=100)"
   ]
  },
  {
   "cell_type": "code",
   "execution_count": 14,
   "metadata": {},
   "outputs": [],
   "source": [
    "start = time.time()\n",
    "ids_scaling_gride, ids_scaling_err_gride, rs_scaling_gride = _data.return_id_scaling_gride(range_max=1024)\n",
    "delay_gride = time.time()-start\n",
    "\n",
    "start = time.time()\n",
    "ids_scaling_twoNN, ids_scaling_err_twoNN, rs_scaling_twoNN = _data.return_id_scaling_2NN(N_min = 20)\n",
    "delay_twoNN = time.time()-start"
   ]
  },
  {
   "cell_type": "code",
   "execution_count": 15,
   "metadata": {},
   "outputs": [
    {
     "name": "stdout",
     "output_type": "stream",
     "text": [
      "gride took  1.98 seconds\n",
      "twoNN took  1.40 seconds\n"
     ]
    }
   ],
   "source": [
    "print(f'gride took {delay_gride: .2f} seconds')\n",
    "print(f'twoNN took {delay_twoNN: .2f} seconds')"
   ]
  },
  {
   "cell_type": "code",
   "execution_count": 16,
   "metadata": {},
   "outputs": [
    {
     "data": {
      "text/plain": [
       "<matplotlib.patches.Polygon at 0x7fd590b62c40>"
      ]
     },
     "execution_count": 16,
     "metadata": {},
     "output_type": "execute_result"
    },
    {
     "data": {
      "image/png": "[encoded data removed]",
      "text/plain": [
       "<Figure size 576x216 with 1 Axes>"
      ]
     },
     "metadata": {
      "needs_background": "light"
     },
     "output_type": "display_data"
    }
   ],
   "source": [
    "fig = plt.figure(figsize = (8, 3))\n",
    "gs = GridSpec(1,2)\n",
    "ax = fig.add_subplot(gs[0])\n",
    "\n",
    "x = X.shape[0]/np.array([2**i for i in range(len(ids_scaling_gride))])\n",
    "sns.lineplot(ax = ax, x=x, y = ids_scaling_gride, label = 'Gride', marker = 'o')\n",
    "sns.lineplot(ax = ax, x=x, y = ids_scaling_twoNN, label = 'twoNN', marker = 'o')\n",
    "ax.legend(fontsize = 10)\n",
    "#ax.set_xscale('log')\n",
    "ax.set_title('MNIST digit 1', fontsize = 15)\n",
    "ax.set_ylabel('ID', fontsize = 14)\n",
    "ax.set_xlabel('n° data', fontsize = 14)\n",
    "ax.axhspan(8, 11, color = 'C2', alpha = 0.1)"
   ]
  },
  {
   "cell_type": "code",
   "execution_count": null,
   "metadata": {},
   "outputs": [],
   "source": []
  }
 ],
 "metadata": {
  "kernelspec": {
   "display_name": "pynn",
   "language": "python",
   "name": "pynn"
  },
  "language_info": {
   "codemirror_mode": {
    "name": "ipython",
    "version": 3
   },
   "file_extension": ".py",
   "mimetype": "text/x-python",
   "name": "python",
   "nbconvert_exporter": "python",
   "pygments_lexer": "ipython3",
   "version": "3.9.7"
  },
  "toc": {
   "base_numbering": 1,
   "nav_menu": {},
   "number_sections": true,
   "sideBar": true,
   "skip_h1_title": false,
   "title_cell": "Table of Contents",
   "title_sidebar": "Contents",
   "toc_cell": false,
   "toc_position": {},
   "toc_section_display": true,
   "toc_window_display": false
  }
 },
 "nbformat": 4,
 "nbformat_minor": 5
}
