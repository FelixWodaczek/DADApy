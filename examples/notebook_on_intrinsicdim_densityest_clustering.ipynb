{
 "cells": [
  {
   "cell_type": "markdown",
   "metadata": {},
   "source": [
    "# Tutorial: Intrinsic dimension, Density estimation and Clustering"
   ]
  },
  {
   "cell_type": "code",
   "execution_count": 1,
   "metadata": {},
   "outputs": [],
   "source": [
    "import numpy as np\n",
    "import matplotlib.pyplot as plt\n",
    "from duly import data\n",
    "from duly.plot import plot_SLAn, plot_MDS, plot_matrix\n",
    "\n",
    "\n",
    "%load_ext autoreload\n",
    "%autoreload 2\n",
    "%matplotlib notebook\n",
    "%matplotlib inline\n"
   ]
  },
  {
   "cell_type": "code",
   "execution_count": null,
   "metadata": {},
   "outputs": [],
   "source": [
    "ls"
   ]
  },
  {
   "cell_type": "code",
   "execution_count": null,
   "metadata": {},
   "outputs": [],
   "source": [
    "\n",
    "# import a test set\n",
    "X = np.genfromtxt('datasets/Fig1.dat')[0:10000]\n",
    "\n",
    "# X = np.genfromtxt('Fig2.dat')\n",
    "\n",
    "# X = np.genfromtxt('FigS1.dat')\n",
    "# X = np.genfromtxt('FigS2.dat')\n",
    "\n",
    "# X = np.genfromtxt('FigS3.dat')\n",
    "\n",
    "#X = np.genfromtxt('FigS4.dat')ls\n"
   ]
  },
  {
   "cell_type": "code",
   "execution_count": null,
   "metadata": {},
   "outputs": [],
   "source": [
    "#X = np.random.rand(50000, 2)"
   ]
  },
  {
   "cell_type": "code",
   "execution_count": null,
   "metadata": {},
   "outputs": [],
   "source": [
    "plt.figure(figsize = (5, 5))\n",
    "plt.title('2D scatter of the data')\n",
    "plt.scatter(X[:,0],X[:,1],s=15.,alpha=1.0,c='black',linewidths=0.0)\n",
    "plt.show()"
   ]
  },
  {
   "cell_type": "code",
   "execution_count": null,
   "metadata": {},
   "outputs": [],
   "source": [
    "# initialise the Data class\n",
    "_data = data.Data(X)\n"
   ]
  },
  {
   "cell_type": "code",
   "execution_count": null,
   "metadata": {},
   "outputs": [],
   "source": [
    "# compute distances up to the maxk NN\n",
    "_data.compute_distances(maxk = 1000, njobs = 1)"
   ]
  },
  {
   "cell_type": "code",
   "execution_count": null,
   "metadata": {},
   "outputs": [],
   "source": [
    "_data.maxk"
   ]
  },
  {
   "cell_type": "code",
   "execution_count": null,
   "metadata": {},
   "outputs": [],
   "source": [
    "# estimate ID\n",
    "_data.compute_id()"
   ]
  },
  {
   "cell_type": "code",
   "execution_count": null,
   "metadata": {},
   "outputs": [],
   "source": [
    "# estimate ID Bayesian\n",
    "_data.compute_id_gammaprior(alpha = 2, beta = 2)"
   ]
  },
  {
   "cell_type": "code",
   "execution_count": null,
   "metadata": {},
   "outputs": [],
   "source": [
    "# estimate density with k-NN\n",
    "_data.compute_density_kNN(k = 10)"
   ]
  },
  {
   "cell_type": "code",
   "execution_count": null,
   "metadata": {
    "scrolled": true
   },
   "outputs": [],
   "source": [
    "# estimate density with PAk using cython implementation of Newton-Raphson minimisation\n",
    "_data.compute_density_PAk()"
   ]
  },
  {
   "cell_type": "code",
   "execution_count": null,
   "metadata": {},
   "outputs": [],
   "source": [
    "type(_data.compute_density_PAk)"
   ]
  },
  {
   "cell_type": "code",
   "execution_count": null,
   "metadata": {},
   "outputs": [],
   "source": [
    "# estimate density with PAk using scipy optimisation\n",
    "# _data.compute_density_PAk(method='NM')"
   ]
  },
  {
   "cell_type": "code",
   "execution_count": null,
   "metadata": {},
   "outputs": [],
   "source": [
    "f, [ax1 ,ax2] = plt.subplots(1, 2, figsize = (16, 7),gridspec_kw={'hspace': 0.05, 'wspace': 0})\n",
    "ax1.yaxis.set_major_locator(plt.NullLocator())\n",
    "ax1.xaxis.set_major_locator(plt.NullLocator())\n",
    "ax1.set_title('PAk log densities')\n",
    "\n",
    "ax1.scatter(X[:,0],X[:,1],s=15.,alpha=0.9, c = _data.Rho,linewidths=0.0)\n",
    "ax2.yaxis.set_major_locator(plt.NullLocator())\n",
    "ax2.xaxis.set_major_locator(plt.NullLocator())\n",
    "ax2.set_title('PAk log densities interpolated')\n",
    "ax2.tricontour(X[:,0],X[:,1],_data.Rho,levels=10, linewidths=0.5, colors='k')\n",
    "fig2=ax2.tricontourf(X[:,0],X[:,1],_data.Rho,levels=250,alpha=0.9)\n",
    "\n",
    "plt.colorbar(fig2)\n",
    "plt.show()"
   ]
  },
  {
   "cell_type": "code",
   "execution_count": null,
   "metadata": {},
   "outputs": [],
   "source": [
    "# estimate clusters\n",
    "# _data.compute_clustering(Z = 1, halo=False)"
   ]
  },
  {
   "cell_type": "code",
   "execution_count": null,
   "metadata": {},
   "outputs": [],
   "source": [
    "# estimate clusters\n",
    "_data.compute_clustering_optimised(Z = 2., halo=False)"
   ]
  },
  {
   "cell_type": "code",
   "execution_count": null,
   "metadata": {},
   "outputs": [],
   "source": [
    "\n",
    "Nclus_m=len(_data.centers_m) \n",
    "cmap = plt.get_cmap('gist_rainbow', Nclus_m)\n",
    "f, ax = plt.subplots(1, 1, figsize = (13, 10))\n",
    "ax.yaxis.set_major_locator(plt.NullLocator())\n",
    "ax.xaxis.set_major_locator(plt.NullLocator())\n",
    "ax.set_title('DPA assignation with halo')\n",
    "xdtmp=[]\n",
    "ydtmp=[]\n",
    "ldtmp=[]\n",
    "xntmp=[]\n",
    "yntmp=[]\n",
    "for j in range(len(_data.labels)):\n",
    "    if (_data.labels[j]!=-1):\n",
    "        xdtmp.append(_data.X[j,0]) \n",
    "        ydtmp.append(_data.X[j,1])\n",
    "        ldtmp.append(_data.labels[j])\n",
    "    else:\n",
    "        xntmp.append(_data.X[j,0])\n",
    "        yntmp.append(_data.X[j,1])\n",
    "        \n",
    "plt.scatter(xdtmp,ydtmp,s=15.,alpha=1.0, c=ldtmp,linewidths=0.0,cmap=cmap)\n",
    "plt.colorbar(ticks=range(Nclus_m))\n",
    "plt.clim(-0.5, Nclus_m-0.5)\n",
    "plt.scatter(xntmp,yntmp,s=10.,alpha=0.5, c='black',linewidths=0.0)"
   ]
  },
  {
   "cell_type": "code",
   "execution_count": null,
   "metadata": {},
   "outputs": [],
   "source": [
    "# plot dendogram\n",
    "plot_SLAn(_data)"
   ]
  },
  {
   "cell_type": "code",
   "execution_count": null,
   "metadata": {},
   "outputs": [],
   "source": [
    "# plot graph of clusters\n",
    "plot_MDS(_data)"
   ]
  },
  {
   "cell_type": "code",
   "execution_count": null,
   "metadata": {},
   "outputs": [],
   "source": [
    "# plot connectivity matrix\n",
    "plot_matrix(_data)"
   ]
  },
  {
   "cell_type": "code",
   "execution_count": null,
   "metadata": {},
   "outputs": [],
   "source": []
  }
 ],
 "metadata": {
  "kernelspec": {
   "display_name": "Python 3",
   "language": "python",
   "name": "python3"
  },
  "language_info": {
   "codemirror_mode": {
    "name": "ipython",
    "version": 3
   },
   "file_extension": ".py",
   "mimetype": "text/x-python",
   "name": "python",
   "nbconvert_exporter": "python",
   "pygments_lexer": "ipython3",
   "version": "3.8.8"
  }
 },
 "nbformat": 4,
 "nbformat_minor": 2
}
