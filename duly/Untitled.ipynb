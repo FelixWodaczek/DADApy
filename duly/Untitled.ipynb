{
 "cells": [
  {
   "cell_type": "code",
   "execution_count": 18,
   "id": "b2b9c7dc",
   "metadata": {},
   "outputs": [],
   "source": [
    "import numpy as np\n",
    "import matplotlib.pyplot as plt "
   ]
  },
  {
   "cell_type": "code",
   "execution_count": 33,
   "id": "233cc62e",
   "metadata": {},
   "outputs": [],
   "source": [
    "sigma=0.00005\n",
    "def p_d(x):\n",
    "    return np.exp(-0.5*((x-2)/sigma)**2)/np.sqrt(2*np.pi*sigma**2)"
   ]
  },
  {
   "cell_type": "code",
   "execution_count": 47,
   "id": "4be8f2e6",
   "metadata": {},
   "outputs": [],
   "source": [
    "dx = 0.1\n",
    "d_left = 0.000001\n",
    "d_right = 20 + dx + d_left\n",
    "d_range = np.arange(d_left, d_right, dx)"
   ]
  },
  {
   "cell_type": "code",
   "execution_count": 48,
   "id": "c1a03325",
   "metadata": {},
   "outputs": [
    {
     "name": "stdout",
     "output_type": "stream",
     "text": [
      "Using matplotlib backend: Qt5Agg\n",
      "iter no\t 1 1e-06 20.100001000000002 1 79.77249998472875 159.5450797419575\n",
      "iter no\t 2 1e-06 20.100001000000002 3 7.977249998472875 15.95450797419575\n",
      "iter no\t 3 1e-06 20.100001000000002 39 1.0143553889402557 2.028710919749421\n",
      "iter no\t 4 1.998101 2.001901 381 0.9999999999934629 1.9999999999869265\n",
      "iter no\t 5 1.998101 2.001901000000025 3801 1.0000000000822669 2.0000000001645333\n"
     ]
    }
   ],
   "source": [
    "%matplotlib\n",
    "P = np.array([p_d(di) for di in d_range]) * dx\n",
    "counter = 0\n",
    "elements = sum(P != 0)\n",
    "while elements < 1000:\n",
    "    if elements > 10:\n",
    "        dx /= 10\n",
    "        ind = np.where(P != 0)[0]\n",
    "        d_left = d_range[ind[0]]\n",
    "        d_right = d_range[ind[-1]]\n",
    "    else:\n",
    "        dx /= 10\n",
    "    d_range = np.arange(d_left, d_right, dx)\n",
    "    P = np.array([p_d(di) for di in d_range]) * dx\n",
    "    elements = sum(P != 0)\n",
    "    counter += 1\n",
    "    print(\"iter no\\t\", counter, d_left, d_right, elements, sum(P), np.dot(d_range,P).mean())\n",
    "    plt.plot(d_range,P)"
   ]
  },
  {
   "cell_type": "code",
   "execution_count": 50,
   "id": "ca669ea7",
   "metadata": {},
   "outputs": [
    {
     "data": {
      "text/plain": [
       "[<matplotlib.lines.Line2D at 0x7f662d456490>]"
      ]
     },
     "execution_count": 50,
     "metadata": {},
     "output_type": "execute_result"
    }
   ],
   "source": [
    "dd = np.linspace(1.999,2.001,1000)\n",
    "pp = p_d(dd)*0.002/1000\n",
    "plt.plot(dd,pp)"
   ]
  },
  {
   "cell_type": "code",
   "execution_count": null,
   "id": "ecdeba19",
   "metadata": {},
   "outputs": [],
   "source": []
  }
 ],
 "metadata": {
  "kernelspec": {
   "display_name": "Python 3",
   "language": "python",
   "name": "python3"
  },
  "language_info": {
   "codemirror_mode": {
    "name": "ipython",
    "version": 3
   },
   "file_extension": ".py",
   "mimetype": "text/x-python",
   "name": "python",
   "nbconvert_exporter": "python",
   "pygments_lexer": "ipython3",
   "version": "3.8.10"
  }
 },
 "nbformat": 4,
 "nbformat_minor": 5
}
