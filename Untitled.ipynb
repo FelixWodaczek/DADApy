{
 "cells": [
  {
   "cell_type": "code",
   "execution_count": 1,
   "id": "3ad9cc5c",
   "metadata": {},
   "outputs": [],
   "source": [
    "import numpy as np"
   ]
  },
  {
   "cell_type": "code",
   "execution_count": 25,
   "id": "15e4e83a",
   "metadata": {},
   "outputs": [
    {
     "data": {
      "text/plain": [
       "(100, 10)"
      ]
     },
     "execution_count": 25,
     "metadata": {},
     "output_type": "execute_result"
    }
   ],
   "source": [
    "dist = np.random.choice(np.arange(4), size = (100, 10))\n",
    "\n",
    "uni, ind = np.unique(dist, axis=0, return_index=True)\n",
    "uni.shape"
   ]
  },
  {
   "cell_type": "code",
   "execution_count": 24,
   "id": "a0db5824",
   "metadata": {},
   "outputs": [
    {
     "data": {
      "text/plain": [
       "array([0, 2, 3])"
      ]
     },
     "execution_count": 24,
     "metadata": {},
     "output_type": "execute_result"
    }
   ],
   "source": [
    "np.unique(dist[2])"
   ]
  },
  {
   "cell_type": "code",
   "execution_count": null,
   "id": "f2208f42",
   "metadata": {},
   "outputs": [],
   "source": []
  }
 ],
 "metadata": {
  "kernelspec": {
   "display_name": "Python 3",
   "language": "python",
   "name": "python3"
  },
  "language_info": {
   "codemirror_mode": {
    "name": "ipython",
    "version": 3
   },
   "file_extension": ".py",
   "mimetype": "text/x-python",
   "name": "python",
   "nbconvert_exporter": "python",
   "pygments_lexer": "ipython3",
   "version": "3.8.10"
  }
 },
 "nbformat": 4,
 "nbformat_minor": 5
}
